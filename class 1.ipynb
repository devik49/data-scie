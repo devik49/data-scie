{
 "cells": [
  {
   "cell_type": "code",
   "execution_count": 1,
   "id": "3d56a286",
   "metadata": {},
   "outputs": [],
   "source": [
    "import numpy as np"
   ]
  },
  {
   "cell_type": "code",
   "execution_count": 2,
   "id": "2c0ae7aa",
   "metadata": {},
   "outputs": [
    {
     "name": "stdout",
     "output_type": "stream",
     "text": [
      "[1 2 3 4 5]\n",
      "<class 'numpy.ndarray'>\n"
     ]
    }
   ],
   "source": [
    "a=np.array([1,2,3,4,5])\n",
    "print(a)\n",
    "print(type(a))"
   ]
  },
  {
   "cell_type": "code",
   "execution_count": 7,
   "id": "b7f4fdb2",
   "metadata": {},
   "outputs": [
    {
     "name": "stdout",
     "output_type": "stream",
     "text": [
      "int32\n",
      "1\n",
      "(5,)\n",
      "5\n",
      "4\n"
     ]
    }
   ],
   "source": [
    "print(\"dtype\",a.dtype)\n",
    "print(\"ndim\",a.ndim)\n",
    "print(\"shape\",a.shape)#no of col and rows\n",
    "print(\"size\",a.size)\n",
    "print(\"itemsize\",a.itemsize)#item size is number of bytes are allocated to ua integer value"
   ]
  },
  {
   "cell_type": "code",
   "execution_count": 9,
   "id": "b10886d5",
   "metadata": {},
   "outputs": [
    {
     "name": "stdout",
     "output_type": "stream",
     "text": [
      "[[11 12 13]\n",
      " [21 22 23]]\n"
     ]
    },
    {
     "data": {
      "text/plain": [
       "(2, 3)"
      ]
     },
     "execution_count": 9,
     "metadata": {},
     "output_type": "execute_result"
    }
   ],
   "source": [
    "b=np.array([[11,12,13],\n",
    "          [21,22,23]])\n",
    "print(b)\n",
    "b.shape"
   ]
  },
  {
   "cell_type": "code",
   "execution_count": 10,
   "id": "4be7a744",
   "metadata": {},
   "outputs": [
    {
     "name": "stdout",
     "output_type": "stream",
     "text": [
      "dtype int32\n",
      "ndim 2\n",
      "shape (2, 3)\n",
      "size 6\n",
      "itemsize 4\n"
     ]
    }
   ],
   "source": [
    "print(\"dtype\",b.dtype)\n",
    "print(\"ndim\",b.ndim)\n",
    "print(\"shape\",b.shape)#no of col and rows\n",
    "print(\"size\",b.size)\n",
    "print(\"itemsize\",b.itemsize)#item size is number of bytes are allocated to ua integer value"
   ]
  },
  {
   "cell_type": "code",
   "execution_count": 11,
   "id": "65152ed8",
   "metadata": {},
   "outputs": [
    {
     "name": "stdout",
     "output_type": "stream",
     "text": [
      "[[ 1.    2.  ]\n",
      " [11.   12.  ]\n",
      " [21.5  22.36]]\n"
     ]
    }
   ],
   "source": [
    "c=np.array([[1.0,2.0],\n",
    "           [11.0,12.0],\n",
    "            [21.5,22.36]])\n",
    "print(c)"
   ]
  },
  {
   "cell_type": "code",
   "execution_count": 12,
   "id": "b81ae831",
   "metadata": {},
   "outputs": [
    {
     "name": "stdout",
     "output_type": "stream",
     "text": [
      "dtype float64\n",
      "ndim 2\n",
      "shape (3, 2)\n",
      "size 6\n",
      "itemsize 8\n"
     ]
    }
   ],
   "source": [
    "print(\"dtype\",c.dtype)\n",
    "print(\"ndim\",c.ndim)\n",
    "print(\"shape\",c.shape)#no of col and rows\n",
    "print(\"size\",c.size)\n",
    "print(\"itemsize\",c.itemsize)#item size is number of bytes are allocated to ua integer value"
   ]
  },
  {
   "cell_type": "code",
   "execution_count": 13,
   "id": "69079507",
   "metadata": {},
   "outputs": [
    {
     "name": "stdout",
     "output_type": "stream",
     "text": [
      "[[1]\n",
      " [2]\n",
      " [3]]\n"
     ]
    }
   ],
   "source": [
    "d=np.array([[1],\n",
    "            [2],\n",
    "            [3]])\n",
    "print(d)"
   ]
  },
  {
   "cell_type": "code",
   "execution_count": 14,
   "id": "f732e320",
   "metadata": {},
   "outputs": [
    {
     "name": "stdout",
     "output_type": "stream",
     "text": [
      "dtype int32\n",
      "ndim 2\n",
      "shape (3, 1)\n",
      "size 3\n",
      "itemsize 4\n"
     ]
    }
   ],
   "source": [
    "print(\"dtype\",d.dtype)\n",
    "print(\"ndim\",d.ndim)\n",
    "print(\"shape\",d.shape)#no of col and rows\n",
    "print(\"size\",d.size)\n",
    "print(\"itemsize\",d.itemsize)#item size is number of bytes are allocated to ua integer value"
   ]
  },
  {
   "cell_type": "code",
   "execution_count": 15,
   "id": "7c33182d",
   "metadata": {},
   "outputs": [
    {
     "name": "stdout",
     "output_type": "stream",
     "text": [
      "[[1 2 3]\n",
      " [4 5 6]\n",
      " [7 8 9]]\n"
     ]
    }
   ],
   "source": [
    "#create a ndarray with 3 rows and 3 columns\n",
    "e=np.array([[1,2,3],\n",
    "            [4,5,6],\n",
    "            [7,8,9]])\n",
    "print(e)"
   ]
  },
  {
   "cell_type": "code",
   "execution_count": 16,
   "id": "77267294",
   "metadata": {},
   "outputs": [
    {
     "name": "stdout",
     "output_type": "stream",
     "text": [
      "dtype int32\n",
      "ndim 2\n",
      "shape (3, 3)\n",
      "size 9\n",
      "itemsize 4\n"
     ]
    }
   ],
   "source": [
    "print(\"dtype\",e.dtype)\n",
    "print(\"ndim\",e.ndim)\n",
    "print(\"shape\",e.shape)#no of col and rows\n",
    "print(\"size\",e.size)\n",
    "print(\"itemsize\",e.itemsize)#item size is number of bytes are allocated to ua integer value"
   ]
  },
  {
   "cell_type": "code",
   "execution_count": 20,
   "id": "008bcde5",
   "metadata": {},
   "outputs": [
    {
     "name": "stdout",
     "output_type": "stream",
     "text": [
      "[[1 2 3]\n",
      " [4 5 6]]\n"
     ]
    }
   ],
   "source": [
    "f=np.array([[1.25,2.25,3.35],\n",
    "           [4.5,5.5,6.9]],dtype=int)\n",
    "print(f)"
   ]
  },
  {
   "cell_type": "code",
   "execution_count": 21,
   "id": "47371fde",
   "metadata": {},
   "outputs": [
    {
     "name": "stdout",
     "output_type": "stream",
     "text": [
      "[1. 2. 3. 4.]\n",
      "float64\n"
     ]
    }
   ],
   "source": [
    "g=np.array([1,2,3,4],dtype=float)\n",
    "print(g)\n",
    "print(g.dtype)"
   ]
  },
  {
   "cell_type": "code",
   "execution_count": 23,
   "id": "459fd560",
   "metadata": {},
   "outputs": [
    {
     "name": "stdout",
     "output_type": "stream",
     "text": [
      "[0 0 0 0 0]\n"
     ]
    }
   ],
   "source": [
    "a=np.zeros(5,dtype=int)\n",
    "print(a)"
   ]
  },
  {
   "cell_type": "code",
   "execution_count": 24,
   "id": "d41c7fcc",
   "metadata": {},
   "outputs": [
    {
     "name": "stdout",
     "output_type": "stream",
     "text": [
      "<class 'numpy.ndarray'>\n"
     ]
    }
   ],
   "source": [
    "print(type(a))"
   ]
  },
  {
   "cell_type": "code",
   "execution_count": 25,
   "id": "e8ee8674",
   "metadata": {},
   "outputs": [
    {
     "name": "stdout",
     "output_type": "stream",
     "text": [
      "[[0 0]\n",
      " [0 0]\n",
      " [0 0]]\n"
     ]
    }
   ],
   "source": [
    "b=np.zeros((3,2),dtype=int)\n",
    "print(b)"
   ]
  },
  {
   "cell_type": "code",
   "execution_count": 26,
   "id": "92621691",
   "metadata": {},
   "outputs": [
    {
     "name": "stdout",
     "output_type": "stream",
     "text": [
      "[[1 1 1]\n",
      " [1 1 1]]\n"
     ]
    }
   ],
   "source": [
    "c=np.ones((2,3),dtype=int)\n",
    "print(c)"
   ]
  },
  {
   "cell_type": "code",
   "execution_count": 28,
   "id": "067e979b",
   "metadata": {},
   "outputs": [
    {
     "name": "stdout",
     "output_type": "stream",
     "text": [
      "[1. 1. 1. 1. 1.]\n"
     ]
    }
   ],
   "source": [
    "#create a 1 dim ndarry filled with ones dtype=float\n",
    "d=np.ones(5)\n",
    "print(d)"
   ]
  },
  {
   "cell_type": "code",
   "execution_count": 30,
   "id": "5d4f5df7",
   "metadata": {},
   "outputs": [
    {
     "data": {
      "text/plain": [
       "array([[34., 34., 34.],\n",
       "       [34., 34., 34.]])"
      ]
     },
     "execution_count": 30,
     "metadata": {},
     "output_type": "execute_result"
    }
   ],
   "source": [
    "gh=np.full((2,3),34,dtype=float)\n",
    "gh"
   ]
  },
  {
   "cell_type": "code",
   "execution_count": 33,
   "id": "ad0b07aa",
   "metadata": {},
   "outputs": [
    {
     "name": "stdout",
     "output_type": "stream",
     "text": [
      "[[1 0 0 0]\n",
      " [0 1 0 0]\n",
      " [0 0 1 0]\n",
      " [0 0 0 1]]\n"
     ]
    }
   ],
   "source": [
    "e=np.eye(4,dtype=int)\n",
    "print(e)"
   ]
  },
  {
   "cell_type": "code",
   "execution_count": 36,
   "id": "2c9893ff",
   "metadata": {},
   "outputs": [
    {
     "name": "stdout",
     "output_type": "stream",
     "text": [
      "[1, 4, 7]\n"
     ]
    }
   ],
   "source": [
    "a=list(range(1,10,3))\n",
    "print(a)\n"
   ]
  },
  {
   "cell_type": "code",
   "execution_count": 38,
   "id": "affec78f",
   "metadata": {},
   "outputs": [
    {
     "name": "stdout",
     "output_type": "stream",
     "text": [
      "(1, 4, 7)\n"
     ]
    }
   ],
   "source": [
    "ab=tuple(range(1,10,3))\n",
    "print(ab)\n"
   ]
  },
  {
   "cell_type": "code",
   "execution_count": 40,
   "id": "5598d3b3",
   "metadata": {},
   "outputs": [
    {
     "name": "stdout",
     "output_type": "stream",
     "text": [
      "[ 1  2  3  4  5  6  7  8  9 10 11 12 13 14 15 16 17 18 19 20]\n",
      "<class 'numpy.ndarray'>\n"
     ]
    }
   ],
   "source": [
    "a=np.arange(1,21)\n",
    "print(a)\n",
    "print(type(a))"
   ]
  },
  {
   "cell_type": "code",
   "execution_count": 41,
   "id": "3a633aeb",
   "metadata": {},
   "outputs": [
    {
     "name": "stdout",
     "output_type": "stream",
     "text": [
      "[ 1  5  9 13 17 21]\n"
     ]
    }
   ],
   "source": [
    "a=np.arange(1,22,4)#here step value is 4\n",
    "print(a)"
   ]
  },
  {
   "cell_type": "code",
   "execution_count": 42,
   "id": "5512549a",
   "metadata": {},
   "outputs": [
    {
     "name": "stdout",
     "output_type": "stream",
     "text": [
      "[ 0  4  8 12 16 20]\n"
     ]
    }
   ],
   "source": [
    "a=np.arange(0,22,4)#here step value is 4\n",
    "print(a)"
   ]
  },
  {
   "cell_type": "code",
   "execution_count": 43,
   "id": "0544a2fe",
   "metadata": {},
   "outputs": [
    {
     "name": "stdout",
     "output_type": "stream",
     "text": [
      "[0.  0.6 1.2 1.8 2.4 3.  3.6 4.2 4.8 5.4]\n"
     ]
    }
   ],
   "source": [
    "c=np.arange(0,6,0.6)\n",
    "print(c)"
   ]
  },
  {
   "cell_type": "code",
   "execution_count": 44,
   "id": "c96c3d89",
   "metadata": {},
   "outputs": [
    {
     "name": "stdout",
     "output_type": "stream",
     "text": [
      "[[ 1  2  3  4]\n",
      " [ 5  6  7  8]\n",
      " [ 9 10 11 12]\n",
      " [13 14 15 16]]\n",
      "<class 'numpy.ndarray'>\n",
      "(4, 4)\n",
      "2\n"
     ]
    }
   ],
   "source": [
    "d=np.arange(1,17).reshape(4,4)\n",
    "print(d)\n",
    "print(type(d))\n",
    "print(d.shape)\n",
    "print(d.ndim)"
   ]
  },
  {
   "cell_type": "code",
   "execution_count": 45,
   "id": "28285045",
   "metadata": {},
   "outputs": [
    {
     "name": "stdout",
     "output_type": "stream",
     "text": [
      "[[20 21]\n",
      " [22 23]\n",
      " [24 25]\n",
      " [26 27]\n",
      " [28 29]\n",
      " [30 31]\n",
      " [32 33]\n",
      " [34 35]]\n",
      "16\n"
     ]
    }
   ],
   "source": [
    "d=np.arange(20,36).reshape(8,2)\n",
    "print(d)\n",
    "print(d.size)"
   ]
  },
  {
   "cell_type": "code",
   "execution_count": 46,
   "id": "27dc5f2f",
   "metadata": {},
   "outputs": [
    {
     "name": "stdout",
     "output_type": "stream",
     "text": [
      "[1 2 3 4 5]\n"
     ]
    }
   ],
   "source": [
    "#Elementwise computation\n",
    "b1 = np.arange(1,6)\n",
    "print(b1)"
   ]
  },
  {
   "cell_type": "code",
   "execution_count": 47,
   "id": "12867a13",
   "metadata": {},
   "outputs": [
    {
     "name": "stdout",
     "output_type": "stream",
     "text": [
      "b2= [3 4 5 6 7]\n",
      "b1= [1 2 3 4 5]\n"
     ]
    }
   ],
   "source": [
    "b2 = b1+2\n",
    "print(\"b2=\",b2)\n",
    "print(\"b1=\",b1)"
   ]
  },
  {
   "cell_type": "code",
   "execution_count": 53,
   "id": "6d7989c1",
   "metadata": {},
   "outputs": [],
   "source": [
    "b3 = b1-2\n",
    "b4=b1/2\n",
    "b5=b1//2\n",
    "b6=b1*2\n",
    "b7=b1%2\n",
    "b8=b1**2\n",
    "\n"
   ]
  },
  {
   "cell_type": "code",
   "execution_count": 57,
   "id": "9b457b8b",
   "metadata": {},
   "outputs": [
    {
     "name": "stdout",
     "output_type": "stream",
     "text": [
      "[-1  0  1  2  3]\n",
      "[0.5 1.  1.5 2.  2.5]\n",
      "[0 1 1 2 2]\n",
      "[ 2  4  6  8 10]\n",
      "[1 0 1 0 1]\n",
      "[ 1  4  9 16 25]\n"
     ]
    }
   ],
   "source": [
    "print(b3)\n",
    "print(b4)\n",
    "print(b5)\n",
    "print(b6)\n",
    "print(b7)\n",
    "print(b8)\n"
   ]
  },
  {
   "cell_type": "code",
   "execution_count": 62,
   "id": "232520ff",
   "metadata": {},
   "outputs": [
    {
     "name": "stdout",
     "output_type": "stream",
     "text": [
      "[[1 2]\n",
      " [3 4]]\n",
      "[[3 1]\n",
      " [2 4]]\n"
     ]
    }
   ],
   "source": [
    "c1=np.arange(1,5).reshape(2,2)\n",
    "print(c1)\n",
    "\n",
    "c2=np.array([3,1,2,4]).reshape(2,2)\n",
    "print(c2)"
   ]
  },
  {
   "cell_type": "code",
   "execution_count": 63,
   "id": "b87f663f",
   "metadata": {},
   "outputs": [
    {
     "name": "stdout",
     "output_type": "stream",
     "text": [
      "[[ 3  2]\n",
      " [ 6 16]]\n"
     ]
    }
   ],
   "source": [
    "print(c1*c2)#element wise multiplication\n"
   ]
  },
  {
   "cell_type": "code",
   "execution_count": 65,
   "id": "248ebaeb",
   "metadata": {},
   "outputs": [
    {
     "name": "stdout",
     "output_type": "stream",
     "text": [
      "[[1 2]\n",
      " [3 4]]\n",
      "[[3 1]\n",
      " [2 4]]\n",
      "[[ 7  9]\n",
      " [17 19]]\n"
     ]
    }
   ],
   "source": [
    "#Matrix multiplication\n",
    "print(c1)\n",
    "print(c2)\n",
    "c3=np.dot(c1,c2)\n",
    "print(c3)"
   ]
  },
  {
   "cell_type": "code",
   "execution_count": 66,
   "id": "b1f6c74a",
   "metadata": {},
   "outputs": [
    {
     "name": "stdout",
     "output_type": "stream",
     "text": [
      "[1 2 3 4 5]\n"
     ]
    }
   ],
   "source": [
    "#Universal function'\n",
    "x=np.arange(1,6)\n",
    "print(x)"
   ]
  },
  {
   "cell_type": "code",
   "execution_count": 67,
   "id": "8be2260d",
   "metadata": {},
   "outputs": [
    {
     "name": "stdout",
     "output_type": "stream",
     "text": [
      "[1.         1.41421356 1.73205081 2.         2.23606798]\n",
      "[ 0.84147098  0.90929743  0.14112001 -0.7568025  -0.95892427]\n",
      "[0.         0.69314718 1.09861229 1.38629436 1.60943791]\n"
     ]
    }
   ],
   "source": [
    "print(np.sqrt(x))\n",
    "print(np.sin(x))\n",
    "print(np.log(x))"
   ]
  },
  {
   "cell_type": "code",
   "execution_count": 70,
   "id": "5ec6a450",
   "metadata": {},
   "outputs": [
    {
     "name": "stdout",
     "output_type": "stream",
     "text": [
      "15\n",
      "1\n",
      "5\n",
      "3.0\n"
     ]
    }
   ],
   "source": [
    "#Aggregrate function\n",
    "print(np.sum(x))\n",
    "print(np.min(x))\n",
    "print(np.max(x))\n",
    "print(np.mean(x))"
   ]
  },
  {
   "cell_type": "code",
   "execution_count": 71,
   "id": "c7efeaa7",
   "metadata": {},
   "outputs": [
    {
     "name": "stdout",
     "output_type": "stream",
     "text": [
      "[ 1  2  3  4  5  6  7  8  9 10 11 12 13 14 15]\n"
     ]
    }
   ],
   "source": [
    "#Indexing and slicing\n",
    "y=np.arange(1,16)\n",
    "print(y)"
   ]
  },
  {
   "cell_type": "code",
   "execution_count": 72,
   "id": "6dba2c43",
   "metadata": {},
   "outputs": [
    {
     "name": "stdout",
     "output_type": "stream",
     "text": [
      "6\n"
     ]
    }
   ],
   "source": [
    "print(y[5])"
   ]
  },
  {
   "cell_type": "code",
   "execution_count": 73,
   "id": "fd75ffb6",
   "metadata": {},
   "outputs": [
    {
     "name": "stdout",
     "output_type": "stream",
     "text": [
      "12\n"
     ]
    }
   ],
   "source": [
    "print(y[11])"
   ]
  },
  {
   "cell_type": "code",
   "execution_count": 76,
   "id": "bdc4f50b",
   "metadata": {},
   "outputs": [
    {
     "name": "stdout",
     "output_type": "stream",
     "text": [
      "[ 4  5  6  7  8  9 10 11]\n"
     ]
    }
   ],
   "source": [
    "print(y[3:11])"
   ]
  },
  {
   "cell_type": "code",
   "execution_count": 77,
   "id": "5d8fbf3a",
   "metadata": {},
   "outputs": [
    {
     "name": "stdout",
     "output_type": "stream",
     "text": [
      "[ 1  2  3  4  5  6  7  8  9 10 11 12 13 14 15]\n"
     ]
    }
   ],
   "source": [
    "print(y)"
   ]
  },
  {
   "cell_type": "code",
   "execution_count": 80,
   "id": "bda7a9b7",
   "metadata": {},
   "outputs": [
    {
     "name": "stdout",
     "output_type": "stream",
     "text": [
      "[1 3 5 7 9]\n"
     ]
    }
   ],
   "source": [
    "#1,3,5,7,9\n",
    "print(y[:10:2])"
   ]
  },
  {
   "cell_type": "code",
   "execution_count": 88,
   "id": "cde22115",
   "metadata": {},
   "outputs": [
    {
     "name": "stdout",
     "output_type": "stream",
     "text": [
      "[ 5 10]\n"
     ]
    }
   ],
   "source": [
    "print(y[4:10:5])"
   ]
  },
  {
   "cell_type": "code",
   "execution_count": 90,
   "id": "9c286140",
   "metadata": {},
   "outputs": [
    {
     "name": "stdout",
     "output_type": "stream",
     "text": [
      "[2 9]\n"
     ]
    }
   ],
   "source": [
    "print(y[1::7])"
   ]
  },
  {
   "cell_type": "code",
   "execution_count": 91,
   "id": "de28af03",
   "metadata": {},
   "outputs": [
    {
     "name": "stdout",
     "output_type": "stream",
     "text": [
      "[ 2  4 10 14]\n"
     ]
    }
   ],
   "source": [
    "print(y[[1,3,9,13]])"
   ]
  },
  {
   "cell_type": "code",
   "execution_count": 92,
   "id": "efd79e86",
   "metadata": {},
   "outputs": [
    {
     "name": "stdout",
     "output_type": "stream",
     "text": [
      "[[ 1  2  3  4]\n",
      " [ 5  6  7  8]\n",
      " [ 9 10 11 12]\n",
      " [13 14 15 16]]\n"
     ]
    }
   ],
   "source": [
    "z=np.arange(1,17).reshape(4,4)\n",
    "print(z)"
   ]
  },
  {
   "cell_type": "code",
   "execution_count": 93,
   "id": "573c8124",
   "metadata": {},
   "outputs": [
    {
     "name": "stdout",
     "output_type": "stream",
     "text": [
      "5\n"
     ]
    }
   ],
   "source": [
    "#5\n",
    "print(z[1,0])#z(r,c)"
   ]
  },
  {
   "cell_type": "code",
   "execution_count": 95,
   "id": "e421dd3c",
   "metadata": {},
   "outputs": [
    {
     "name": "stdout",
     "output_type": "stream",
     "text": [
      "7\n",
      "11\n",
      "10\n",
      "15\n",
      "13\n"
     ]
    }
   ],
   "source": [
    "print(z[1,2])\n",
    "print(z[2,2])\n",
    "print(z[2,1])\n",
    "print(z[3,2])\n",
    "print(z[3,0])"
   ]
  },
  {
   "cell_type": "code",
   "execution_count": 96,
   "id": "18d6a135",
   "metadata": {},
   "outputs": [
    {
     "name": "stdout",
     "output_type": "stream",
     "text": [
      "[[ 1  2  3  4]\n",
      " [ 5  6  7  8]\n",
      " [ 9 10 11 12]\n",
      " [13 14 15 16]]\n"
     ]
    }
   ],
   "source": [
    "print(z)"
   ]
  },
  {
   "cell_type": "code",
   "execution_count": 101,
   "id": "aedcd7ec",
   "metadata": {},
   "outputs": [
    {
     "name": "stdout",
     "output_type": "stream",
     "text": [
      "[ 3  7 11 15]\n",
      "[ 2  6 10 14]\n"
     ]
    }
   ],
   "source": [
    "print(z[:,2])\n",
    "print(z[:,1])"
   ]
  },
  {
   "cell_type": "code",
   "execution_count": 102,
   "id": "b9983023",
   "metadata": {},
   "outputs": [
    {
     "name": "stdout",
     "output_type": "stream",
     "text": [
      "[5 6 7 8]\n",
      "[13 14 15 16]\n"
     ]
    }
   ],
   "source": [
    "print(z[1,:])\n",
    "print(z[3,:])"
   ]
  },
  {
   "cell_type": "code",
   "execution_count": 103,
   "id": "2747aaba",
   "metadata": {},
   "outputs": [
    {
     "name": "stdout",
     "output_type": "stream",
     "text": [
      "[[ 1  2  3]\n",
      " [ 5  6  7]\n",
      " [ 9 10 11]\n",
      " [13 14 15]]\n"
     ]
    }
   ],
   "source": [
    "print(z[:,0:3])"
   ]
  },
  {
   "cell_type": "code",
   "execution_count": 104,
   "id": "79fbb760",
   "metadata": {},
   "outputs": [
    {
     "name": "stdout",
     "output_type": "stream",
     "text": [
      "[[1 2 3 4]\n",
      " [5 6 7 8]]\n"
     ]
    }
   ],
   "source": [
    "print(z[0:2,:])"
   ]
  },
  {
   "cell_type": "code",
   "execution_count": 105,
   "id": "fcd2f707",
   "metadata": {},
   "outputs": [
    {
     "name": "stdout",
     "output_type": "stream",
     "text": [
      "[[1 2 3]\n",
      " [5 6 7]]\n"
     ]
    }
   ],
   "source": [
    "print(z[0:2,0:3])"
   ]
  },
  {
   "cell_type": "code",
   "execution_count": 106,
   "id": "13be8a85",
   "metadata": {},
   "outputs": [
    {
     "name": "stdout",
     "output_type": "stream",
     "text": [
      "[[ 1  2  3  4]\n",
      " [ 9 10 11 12]\n",
      " [13 14 15 16]]\n"
     ]
    }
   ],
   "source": [
    "print(z[[0,2,3],:])"
   ]
  },
  {
   "cell_type": "code",
   "execution_count": 107,
   "id": "59a3e0d6",
   "metadata": {},
   "outputs": [
    {
     "name": "stdout",
     "output_type": "stream",
     "text": [
      "[[ 1  2  3  4]\n",
      " [ 5  6  7  8]\n",
      " [ 9 10 11 12]\n",
      " [13 14 15 16]]\n"
     ]
    }
   ],
   "source": [
    "print(z)"
   ]
  },
  {
   "cell_type": "code",
   "execution_count": 108,
   "id": "07886634",
   "metadata": {},
   "outputs": [
    {
     "name": "stdout",
     "output_type": "stream",
     "text": [
      "[[ 6  7]\n",
      " [14 15]]\n"
     ]
    }
   ],
   "source": [
    "print(z[[1,3],1:3])"
   ]
  },
  {
   "cell_type": "code",
   "execution_count": 113,
   "id": "4d82d0b2",
   "metadata": {},
   "outputs": [
    {
     "name": "stdout",
     "output_type": "stream",
     "text": [
      "[[1 2 3 4]\n",
      " [5 6 7 8]]\n"
     ]
    }
   ],
   "source": [
    "print(z[:2,])"
   ]
  },
  {
   "cell_type": "code",
   "execution_count": 112,
   "id": "0b7bdb16",
   "metadata": {},
   "outputs": [
    {
     "name": "stdout",
     "output_type": "stream",
     "text": [
      "[[1 2 3 4]\n",
      " [5 6 7 8]]\n"
     ]
    }
   ],
   "source": [
    "print(z[0:2,:4])"
   ]
  },
  {
   "cell_type": "code",
   "execution_count": 116,
   "id": "a2070210",
   "metadata": {},
   "outputs": [
    {
     "name": "stdout",
     "output_type": "stream",
     "text": [
      "[[ 1  2  3]\n",
      " [ 5  6  7]\n",
      " [ 9 10 11]\n",
      " [13 14 15]]\n"
     ]
    }
   ],
   "source": [
    "print(z[0:4,0:3])"
   ]
  },
  {
   "cell_type": "code",
   "execution_count": 118,
   "id": "88e49a96",
   "metadata": {},
   "outputs": [
    {
     "name": "stdout",
     "output_type": "stream",
     "text": [
      "[[ 1  2  3]\n",
      " [ 5  6  7]\n",
      " [ 9 10 11]\n",
      " [13 14 15]]\n"
     ]
    }
   ],
   "source": [
    "print(z[:4,:3])"
   ]
  },
  {
   "cell_type": "code",
   "execution_count": 119,
   "id": "82d212c7",
   "metadata": {},
   "outputs": [
    {
     "name": "stdout",
     "output_type": "stream",
     "text": [
      "[[ 1  2  3]\n",
      " [ 5  6  7]\n",
      " [ 9 10 11]\n",
      " [13 14 15]]\n"
     ]
    }
   ],
   "source": [
    "print(z[:,[0,1,2]])"
   ]
  },
  {
   "cell_type": "code",
   "execution_count": 120,
   "id": "79834a61",
   "metadata": {},
   "outputs": [
    {
     "name": "stdout",
     "output_type": "stream",
     "text": [
      "[[ 1  2  3  4]\n",
      " [ 5  6  7  8]\n",
      " [ 9 10 11 12]\n",
      " [13 14 15 16]]\n"
     ]
    }
   ],
   "source": [
    "print(z)"
   ]
  },
  {
   "cell_type": "code",
   "execution_count": 124,
   "id": "f88137aa",
   "metadata": {},
   "outputs": [
    {
     "name": "stdout",
     "output_type": "stream",
     "text": [
      "[[ 6  7]\n",
      " [10 11]]\n"
     ]
    }
   ],
   "source": [
    "print(z[1:3,1:3])"
   ]
  },
  {
   "cell_type": "code",
   "execution_count": 125,
   "id": "4766d6ed",
   "metadata": {},
   "outputs": [
    {
     "name": "stdout",
     "output_type": "stream",
     "text": [
      "[[ 1  2  3  4]\n",
      " [ 5  6  7  8]\n",
      " [ 9 10 11 12]\n",
      " [13 14 15 16]]\n"
     ]
    }
   ],
   "source": [
    "print(z)"
   ]
  },
  {
   "cell_type": "code",
   "execution_count": 134,
   "id": "4cd61733",
   "metadata": {},
   "outputs": [
    {
     "name": "stdout",
     "output_type": "stream",
     "text": [
      "[[ 5  8]\n",
      " [13 16]]\n"
     ]
    }
   ],
   "source": [
    "print(z[[1,3],::3])"
   ]
  },
  {
   "cell_type": "code",
   "execution_count": null,
   "id": "218b78f6",
   "metadata": {},
   "outputs": [],
   "source": []
  }
 ],
 "metadata": {
  "kernelspec": {
   "display_name": "Python 3 (ipykernel)",
   "language": "python",
   "name": "python3"
  },
  "language_info": {
   "codemirror_mode": {
    "name": "ipython",
    "version": 3
   },
   "file_extension": ".py",
   "mimetype": "text/x-python",
   "name": "python",
   "nbconvert_exporter": "python",
   "pygments_lexer": "ipython3",
   "version": "3.9.12"
  }
 },
 "nbformat": 4,
 "nbformat_minor": 5
}
