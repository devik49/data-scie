{
 "cells": [
  {
   "cell_type": "code",
   "execution_count": 1,
   "id": "ad35b71b",
   "metadata": {},
   "outputs": [
    {
     "name": "stdout",
     "output_type": "stream",
     "text": [
      "Requirement already satisfied: opencv-python in c:\\users\\asus\\anaconda3\\lib\\site-packages (4.6.0.66)\n",
      "Requirement already satisfied: numpy>=1.19.3 in c:\\users\\asus\\anaconda3\\lib\\site-packages (from opencv-python) (1.21.5)\n",
      "Note: you may need to restart the kernel to use updated packages.\n"
     ]
    }
   ],
   "source": [
    "pip install opencv-python"
   ]
  },
  {
   "cell_type": "code",
   "execution_count": null,
   "id": "7a070c45",
   "metadata": {},
   "outputs": [],
   "source": []
  },
  {
   "cell_type": "code",
   "execution_count": null,
   "id": "09f19920",
   "metadata": {},
   "outputs": [],
   "source": [
    "\n",
    "import cv2 as cv"
   ]
  },
  {
   "cell_type": "code",
   "execution_count": null,
   "id": "c05a9b67",
   "metadata": {},
   "outputs": [],
   "source": [
    "img = cv.imread('cat.jpg')\n"
   ]
  },
  {
   "cell_type": "code",
   "execution_count": null,
   "id": "eb93f056",
   "metadata": {},
   "outputs": [],
   "source": [
    "cv.imshow('cat', img)\n",
    "cv.waitKey(0)"
   ]
  },
  {
   "cell_type": "code",
   "execution_count": 3,
   "id": "eaf7f31d",
   "metadata": {},
   "outputs": [
    {
     "name": "stdout",
     "output_type": "stream",
     "text": [
      "<class 'numpy.ndarray'>\n",
      "uint8\n"
     ]
    }
   ],
   "source": [
    "print(type(img))\n",
    "print(img.dtype)"
   ]
  },
  {
   "cell_type": "code",
   "execution_count": 4,
   "id": "181c98c3",
   "metadata": {},
   "outputs": [
    {
     "data": {
      "text/plain": [
       "-1"
      ]
     },
     "execution_count": 4,
     "metadata": {},
     "output_type": "execute_result"
    }
   ],
   "source": [
    "img = cv.imread('cat.jpg')\n",
    "gray = cv.cvtColor(img, cv.COLOR_BGR2GRAY)\n",
    "cv.imshow('Original', img)\n",
    "cv.waitKey(0)\n",
    "cv.imshow('Gray', gray)\n",
    "cv.waitKey(0)"
   ]
  },
  {
   "cell_type": "code",
   "execution_count": 6,
   "id": "b46b0ede",
   "metadata": {},
   "outputs": [
    {
     "data": {
      "text/plain": [
       "-1"
      ]
     },
     "execution_count": 6,
     "metadata": {},
     "output_type": "execute_result"
    }
   ],
   "source": [
    "img = cv.imread('cat.jpg')\n",
    "gray = cv.cvtColor(img, cv.COLOR_BGR2GRAY)\n",
    "cv.imshow('Original', img)\n",
    "cv.imshow('Gray', gray)\n",
    "cv.waitKey(0)"
   ]
  },
  {
   "cell_type": "code",
   "execution_count": 7,
   "id": "eda35bc2",
   "metadata": {},
   "outputs": [
    {
     "data": {
      "text/plain": [
       "-1"
      ]
     },
     "execution_count": 7,
     "metadata": {},
     "output_type": "execute_result"
    }
   ],
   "source": [
    "# Resize\n",
    "#ENLARGE:  INTER_CUBIC / INTER_LINEAR\n",
    "#SHRINK: INTER_AREA\n",
    "\n",
    "img = cv.imread('cat.jpg')\n",
    "resized = cv.resize(img, (1050,1010), interpolation=cv.INTER_CUBIC)\n",
    "cv.imshow('Original', img)\n",
    "cv.imshow('Resized', resized)\n",
    "cv.waitKey(0)"
   ]
  },
  {
   "cell_type": "code",
   "execution_count": 8,
   "id": "614db5d8",
   "metadata": {},
   "outputs": [
    {
     "data": {
      "text/plain": [
       "-1"
      ]
     },
     "execution_count": 8,
     "metadata": {},
     "output_type": "execute_result"
    }
   ],
   "source": [
    "\n",
    "img = cv.imread('cat.jpg')\n",
    "cubic = cv.resize(img, (1050,1010), interpolation=cv.INTER_CUBIC)\n",
    "linear = cv.resize(img, (1050,1010), interpolation=cv.INTER_LINEAR)\n",
    "cv.imshow('Original', img)\n",
    "cv.imshow('INTER CUBIC', cubic)\n",
    "\n",
    "cv.imshow('INTER LINEAR', linear)\n",
    "cv.waitKey(0)"
   ]
  },
  {
   "cell_type": "code",
   "execution_count": null,
   "id": "74d03c24",
   "metadata": {},
   "outputs": [],
   "source": [
    "img = cv.imread('cat.jpg')\n",
    "resized = cv.resize(img, (250,250), interpolation=cv.INTER_AREA)\n",
    "cv.imshow('Original', img)\n",
    "cv.imshow('Resized', resized)\n",
    "cv.waitKey(0)"
   ]
  },
  {
   "cell_type": "code",
   "execution_count": null,
   "id": "a9553a91",
   "metadata": {},
   "outputs": [],
   "source": [
    "\n",
    "img = cv.imread('cat.jpg')\n",
    "\n",
    "#cropped = img[y1:y2,x1:x2]\n",
    "cropped1 = img[50:200,50:400]\n",
    "cropped2 = img[0:200,0:500]\n",
    "cv.imshow('Original', img)\n",
    "cv.imshow('Cropped1', cropped1)\n",
    "cv.imshow('Cropped2', cropped2)\n",
    "cv.waitKey(0)"
   ]
  },
  {
   "cell_type": "code",
   "execution_count": null,
   "id": "86817fdd",
   "metadata": {},
   "outputs": [],
   "source": [
    " ### CAPTURING IMAGE ###\n",
    "\n",
    "webcam = cv.VideoCapture(0)      \n",
    "ret, frame = webcam.read()      \n",
    "print (ret)      \n",
    "                              \n",
    "filename = 'savedImage.jpg'    \n",
    "cv.imwrite(filename, frame)    \n",
    "webcam.release()               \n",
    "\n",
    "cv.imshow(\"my image\", frame)     \n",
    "\n",
    "cv.waitKey()                       \n",
    "cv.destroyAllWindows()     \n"
   ]
  },
  {
   "cell_type": "code",
   "execution_count": null,
   "id": "371428f6",
   "metadata": {},
   "outputs": [],
   "source": [
    "# Python program to save a  video using OpenCV \n",
    "import cv2 as cv   \n",
    "# Create an object to read from camera \n",
    "video = cv.VideoCapture(0)    \n",
    "# We need to check if camera is opened previously or not \n",
    "if (video.isOpened() == False):  \n",
    "    print(\"Error reading video file\")   \n",
    "# We need to set resolutions,so, convert them from float to integer. \n",
    "frame_width = int(video.get(3)) \n",
    "frame_height = int(video.get(4)) \n",
    "   \n",
    "size = (frame_width, frame_height)    \n",
    "# Below VideoWriter object will create a frame of above defined The output  \n",
    "# is stored in 'filename.avi' file. \n",
    "result = cv.VideoWriter('photos/vid1.avi',  \n",
    "                         cv.VideoWriter_fourcc(*'MJPG'), \n",
    "                         60, size) \n",
    "    \n",
    "while(True): \n",
    "    ret, frame = video.read()   \n",
    "    if ret == True:    \n",
    "        # Write the frame into the file 'filename.avi' \n",
    "        result.write(frame)   \n",
    "        # Display the frame saved in the file \n",
    "        cv.imshow('Frame', frame)   \n",
    "        # Press S on keyboard to stop the process \n",
    "        if cv.waitKey(1) & 0xFF == ord('s'): \n",
    "            break  \n",
    "    else: \n",
    "        break  \n",
    "# When everything done, release the video capture and video  \n",
    "# write objects \n",
    "video.release() \n",
    "result.release()     \n",
    "# Closes all the frames \n",
    "cv.destroyAllWindows()    \n",
    "print(\"The video was successfully saved\")"
   ]
  },
  {
   "cell_type": "code",
   "execution_count": null,
   "id": "637289ba",
   "metadata": {},
   "outputs": [],
   "source": [
    "\n",
    "img = cv.imread('cat.jpg')\n",
    "cv.imshow('Cat', img)\n",
    "cv.waitKey(0)\n"
   ]
  },
  {
   "cell_type": "code",
   "execution_count": null,
   "id": "dcaba8ec",
   "metadata": {},
   "outputs": [],
   "source": [
    "# BGR to Grayscale\n",
    "gray = cv.cvtColor(img, cv.COLOR_BGR2GRAY)\n",
    "cv.imshow('Gray', gray)\n",
    "cv.waitKey(0)"
   ]
  },
  {
   "cell_type": "code",
   "execution_count": null,
   "id": "9646731a",
   "metadata": {},
   "outputs": [],
   "source": [
    "\n",
    "# BGR to HSV\n",
    "hsv = cv.cvtColor(img, cv.COLOR_BGR2HSV)\n",
    "cv.imshow('HSV', hsv)\n",
    "cv.waitKey(0)\n"
   ]
  },
  {
   "cell_type": "code",
   "execution_count": null,
   "id": "a38bad25",
   "metadata": {},
   "outputs": [],
   "source": [
    "# BGR to L*a*b\n",
    "lab = cv.cvtColor(img, cv.COLOR_BGR2LAB)\n",
    "cv.imshow('LAB', lab)\n",
    "cv.waitKey(0)"
   ]
  },
  {
   "cell_type": "code",
   "execution_count": null,
   "id": "9ab1bd45",
   "metadata": {},
   "outputs": [],
   "source": [
    "\n",
    "img = cv.imread('cat.jpg')\n",
    "cv.imshow('Cat', img)\n",
    "\n",
    "# BGR to RGB\n",
    "rgb = cv.cvtColor(img, cv.COLOR_BGR2RGB)\n",
    "cv.imshow('RGB', rgb)\n",
    "cv.waitKey(0)"
   ]
  },
  {
   "cell_type": "code",
   "execution_count": null,
   "id": "b6e30777",
   "metadata": {},
   "outputs": [],
   "source": [
    "# HSV to BGR\n",
    "hsv_bgr = cv.cvtColor(hsv, cv.COLOR_HSV2BGR)\n",
    "cv.imshow('HSV --> BGR', hsv_bgr)\n",
    "cv.waitKey(0)"
   ]
  },
  {
   "cell_type": "code",
   "execution_count": null,
   "id": "db2ed566",
   "metadata": {},
   "outputs": [],
   "source": [
    "#LAB to BGR\n",
    "lab_bgr= cv.cvtColor(lab, cv.COLOR_LAB2BGR)\n",
    "cv.imshow('LAB --> BGR', lab_bgr)\n",
    "cv.waitKey(0)"
   ]
  },
  {
   "cell_type": "code",
   "execution_count": null,
   "id": "5e296c41",
   "metadata": {},
   "outputs": [],
   "source": []
  },
  {
   "cell_type": "code",
   "execution_count": null,
   "id": "d8039e3a",
   "metadata": {},
   "outputs": [],
   "source": [
    "#Take your picture\n",
    "#crop your face\n"
   ]
  },
  {
   "cell_type": "code",
   "execution_count": null,
   "id": "e103b3b9",
   "metadata": {},
   "outputs": [],
   "source": [
    "#take video\n",
    "#bgr2rgb"
   ]
  },
  {
   "cell_type": "code",
   "execution_count": null,
   "id": "ad2ec5fd",
   "metadata": {},
   "outputs": [],
   "source": [
    "video = cv.VideoCapture(0) \n",
    "if (video.isOpened() == False):  \n",
    "    print(\"Error reading video file\")   \n",
    "frame_width = int(video.get(3)) \n",
    "frame_height = int(video.get(4))    \n",
    "size = (frame_width, frame_height)    \n",
    "\n",
    "result = cv.VideoWriter('vid1.avi',cv.VideoWriter_fourcc(*'MJPG'), \n",
    "                         60, size) \n",
    "    \n",
    "while(True): \n",
    "    ret, frame = video.read()   \n",
    "    if ret == True:   \n",
    "        rgb = cv.cvtColor(frame, cv.COLOR_BGR2RGB)\n",
    "        result.write(rgb)   \n",
    "        cv.imshow('Frame', rgb)    \n",
    "        if cv.waitKey(1) & 0xFF == ord('s'): \n",
    "            break  \n",
    "    else: \n",
    "        break   \n",
    "video.release() \n",
    "result.release()     \n",
    "cv.destroyAllWindows()    \n",
    "print(\"The video was successfully saved\")"
   ]
  }
 ],
 "metadata": {
  "kernelspec": {
   "display_name": "Python 3 (ipykernel)",
   "language": "python",
   "name": "python3"
  },
  "language_info": {
   "codemirror_mode": {
    "name": "ipython",
    "version": 3
   },
   "file_extension": ".py",
   "mimetype": "text/x-python",
   "name": "python",
   "nbconvert_exporter": "python",
   "pygments_lexer": "ipython3",
   "version": "3.9.12"
  }
 },
 "nbformat": 4,
 "nbformat_minor": 5
}
