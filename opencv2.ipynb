{
 "cells": [
  {
   "cell_type": "code",
   "execution_count": 3,
   "id": "f7a91570",
   "metadata": {},
   "outputs": [],
   "source": [
    "import cv2 as cv\n",
    "import numpy as np"
   ]
  },
  {
   "cell_type": "code",
   "execution_count": 2,
   "id": "baf4a6be",
   "metadata": {},
   "outputs": [],
   "source": [
    "%config IPCompleter.greedy=True"
   ]
  },
  {
   "cell_type": "code",
   "execution_count": 3,
   "id": "45021439",
   "metadata": {},
   "outputs": [
    {
     "data": {
      "text/plain": [
       "-1"
      ]
     },
     "execution_count": 3,
     "metadata": {},
     "output_type": "execute_result"
    }
   ],
   "source": [
    "img= cv.imread(\"cat.jpg\")\n",
    "cv.imshow(\"Cat\", img)\n",
    "cv.waitKey(0)"
   ]
  },
  {
   "cell_type": "code",
   "execution_count": 4,
   "id": "900a82ed",
   "metadata": {},
   "outputs": [
    {
     "data": {
      "text/plain": [
       "-1"
      ]
     },
     "execution_count": 4,
     "metadata": {},
     "output_type": "execute_result"
    }
   ],
   "source": [
    "imgGray=  cv.cvtColor(img, cv.COLOR_BGR2GRAY)\n",
    "cv.imshow('Gray', imgGray)\n",
    "cv.waitKey(0)"
   ]
  },
  {
   "cell_type": "code",
   "execution_count": 5,
   "id": "f2a66d7e",
   "metadata": {},
   "outputs": [
    {
     "data": {
      "text/plain": [
       "-1"
      ]
     },
     "execution_count": 5,
     "metadata": {},
     "output_type": "execute_result"
    }
   ],
   "source": [
    "#cv.GaussianBlur(img,(kernel), sigma X))\n",
    "imgBlur1= cv.GaussianBlur(img,(7,7),0)\n",
    "imgBlur2= cv.GaussianBlur(imgGray,(7,7),0)\n",
    "\n",
    "cv.imshow(\"Blur1\",imgBlur1)\n",
    "cv.imshow(\"Blur2\",imgBlur2)\n",
    "cv.waitKey(0)"
   ]
  },
  {
   "cell_type": "code",
   "execution_count": 6,
   "id": "4eebdcda",
   "metadata": {},
   "outputs": [
    {
     "data": {
      "text/plain": [
       "-1"
      ]
     },
     "execution_count": 6,
     "metadata": {},
     "output_type": "execute_result"
    }
   ],
   "source": [
    "#cv.GaussianBlur(img,(kernel), sigma X))\n",
    "imgBlur3= cv.GaussianBlur(img,(3,3),0)\n",
    "imgBlur4= cv.GaussianBlur(img,(5,5),0)\n",
    "imgBlur5= cv.GaussianBlur(img,(7,7),0)\n",
    "imgBlur6= cv.GaussianBlur(img,(9,9),0)\n",
    "\n",
    "\n",
    "cv.imshow(\"Blur3\",imgBlur3)\n",
    "cv.imshow(\"Blur4\",imgBlur4)\n",
    "cv.imshow(\"Blur5\",imgBlur5)\n",
    "cv.imshow(\"Blur6\",imgBlur6)\n",
    "cv.waitKey(0)\n",
    "\n",
    "#typically to reduce image noise and reduce detail."
   ]
  },
  {
   "cell_type": "code",
   "execution_count": 7,
   "id": "766de220",
   "metadata": {},
   "outputs": [
    {
     "data": {
      "text/plain": [
       "-1"
      ]
     },
     "execution_count": 7,
     "metadata": {},
     "output_type": "execute_result"
    }
   ],
   "source": [
    "#Detecting edges in an image\n",
    "\n",
    "#cv.canny(img, lower_threshold, upper_threshold)\n",
    "\n",
    "canny1 = cv.Canny(img,50,100)\n",
    "canny2 = cv.Canny(imgGray,50,100)\n",
    "canny3 = cv.Canny(imgBlur1,50,100)\n",
    "cv.imshow(\"canny1\",canny1)\n",
    "cv.imshow(\"canny2\",canny2)\n",
    "cv.imshow(\"canny3\",canny3)\n",
    "cv.waitKey(0)"
   ]
  },
  {
   "cell_type": "code",
   "execution_count": 8,
   "id": "61f004ce",
   "metadata": {},
   "outputs": [
    {
     "data": {
      "text/plain": [
       "-1"
      ]
     },
     "execution_count": 8,
     "metadata": {},
     "output_type": "execute_result"
    }
   ],
   "source": [
    "#Note use blurred images for canny \n",
    "canny4=cv.Canny(imgBlur1,150,200)\n",
    "cv.imshow(\"canny4\",canny4)\n",
    "cv.waitKey(0)"
   ]
  },
  {
   "cell_type": "markdown",
   "id": "f8679d7c",
   "metadata": {},
   "source": [
    "### cv.canny(img, lower_threshold, upper_threshold)\n",
    "\n",
    "High threshold is used to identify the strong pixels (intensity higher than the high threshold) \n",
    "Low threshold is used to identify the non-relevant pixels (intensity lower than the low threshold)\n",
    "\n",
    "if the threshold is [50, 100] then the edge pixels above the upper limit(100) are considered and edge pixels below the threshold(50) are discarded.\n",
    "\n",
    "#####  \"what about the pixels in between upper and lower threshold\"?\n",
    "They are considered only if they are connected to pixels in the upper threshold. Thus we get a clean edge.\n",
    "\n",
    "### Canny Edge Detector goes one step further and applies thresholding to remove the weakest edges and keep the strongest ones."
   ]
  },
  {
   "cell_type": "markdown",
   "id": "8cc84692",
   "metadata": {},
   "source": [
    "### Dilation : Increases the thickness of the edges"
   ]
  },
  {
   "cell_type": "code",
   "execution_count": 9,
   "id": "902825cc",
   "metadata": {},
   "outputs": [],
   "source": [
    "import numpy as np\n",
    "kernel =np.ones((5,5), np.uint8)"
   ]
  },
  {
   "cell_type": "markdown",
   "id": "812f35f3",
   "metadata": {},
   "source": [
    "#### uint8 implies the values can vary from 0 to 255"
   ]
  },
  {
   "cell_type": "code",
   "execution_count": 10,
   "id": "8312f374",
   "metadata": {},
   "outputs": [
    {
     "data": {
      "text/plain": [
       "-1"
      ]
     },
     "execution_count": 10,
     "metadata": {},
     "output_type": "execute_result"
    }
   ],
   "source": [
    "#use canny image\n",
    "\n",
    "dilate1 = cv.dilate(canny4,kernel,iterations=1)\n",
    "cv.imshow(\"dilate1\",dilate1)\n",
    "cv.imshow(\"canny4\",canny4)\n",
    "cv.waitKey(0)"
   ]
  },
  {
   "cell_type": "code",
   "execution_count": 11,
   "id": "244d8e2d",
   "metadata": {},
   "outputs": [
    {
     "data": {
      "text/plain": [
       "-1"
      ]
     },
     "execution_count": 11,
     "metadata": {},
     "output_type": "execute_result"
    }
   ],
   "source": [
    "dilate2 = cv.dilate(canny4,kernel,iterations=2)\n",
    "cv.imshow(\"dilate1\",dilate2)\n",
    "cv.imshow(\"canny4\",canny4)\n",
    "cv.waitKey(0)"
   ]
  },
  {
   "cell_type": "markdown",
   "id": "cfec8cc5",
   "metadata": {},
   "source": [
    "The opposite of dilation is erosion\n",
    "Dilation adds pixels to the boundaries of objects in an image, \n",
    "while erosion removes pixels on object boundaries."
   ]
  },
  {
   "cell_type": "code",
   "execution_count": 13,
   "id": "edae3239",
   "metadata": {},
   "outputs": [
    {
     "data": {
      "text/plain": [
       "-1"
      ]
     },
     "execution_count": 13,
     "metadata": {},
     "output_type": "execute_result"
    }
   ],
   "source": [
    "erode1 = cv.erode(dilate2,kernel,iterations=1)\n",
    "cv.imshow(\"erode1\",erode1)\n",
    "cv.imshow(\"dilate2\",dilate2)\n",
    "cv.imshow(\"canny4\",canny4)\n",
    "cv.waitKey(0)"
   ]
  },
  {
   "cell_type": "code",
   "execution_count": 14,
   "id": "655d762d",
   "metadata": {},
   "outputs": [
    {
     "data": {
      "text/plain": [
       "-1"
      ]
     },
     "execution_count": 14,
     "metadata": {},
     "output_type": "execute_result"
    }
   ],
   "source": [
    "erode2 = cv.erode(dilate2,kernel,iterations=2)\n",
    "cv.imshow(\"erode1\",erode2)\n",
    "cv.imshow(\"dilate2\",dilate2)\n",
    "cv.waitKey(0)"
   ]
  },
  {
   "cell_type": "code",
   "execution_count": 15,
   "id": "a8d07a59",
   "metadata": {},
   "outputs": [
    {
     "data": {
      "text/plain": [
       "(1415, 2120, 3)"
      ]
     },
     "execution_count": 15,
     "metadata": {},
     "output_type": "execute_result"
    }
   ],
   "source": [
    "img.shape"
   ]
  },
  {
   "cell_type": "markdown",
   "id": "d38f8b01",
   "metadata": {},
   "source": [
    "(height, width, channels)  ie, (y,x,BGR)"
   ]
  },
  {
   "cell_type": "code",
   "execution_count": 16,
   "id": "ece4c0c0",
   "metadata": {},
   "outputs": [
    {
     "data": {
      "text/plain": [
       "-1"
      ]
     },
     "execution_count": 16,
     "metadata": {},
     "output_type": "execute_result"
    }
   ],
   "source": [
    "blank1 = np.zeros((500,500))\n",
    "cv.imshow('Blank1', blank1)\n",
    "cv.waitKey(0)"
   ]
  },
  {
   "cell_type": "code",
   "execution_count": 17,
   "id": "473be481",
   "metadata": {},
   "outputs": [
    {
     "name": "stdout",
     "output_type": "stream",
     "text": [
      "[[0. 0. 0. ... 0. 0. 0.]\n",
      " [0. 0. 0. ... 0. 0. 0.]\n",
      " [0. 0. 0. ... 0. 0. 0.]\n",
      " ...\n",
      " [0. 0. 0. ... 0. 0. 0.]\n",
      " [0. 0. 0. ... 0. 0. 0.]\n",
      " [0. 0. 0. ... 0. 0. 0.]]\n"
     ]
    }
   ],
   "source": [
    "print(blank1)"
   ]
  },
  {
   "cell_type": "code",
   "execution_count": 18,
   "id": "8e668deb",
   "metadata": {},
   "outputs": [
    {
     "data": {
      "text/plain": [
       "-1"
      ]
     },
     "execution_count": 18,
     "metadata": {},
     "output_type": "execute_result"
    }
   ],
   "source": [
    "blank2 = np.zeros((500,500,3), dtype='uint8')#3-B=0,G=0,R=0\n",
    "cv.imshow('Blank2', blank2)\n",
    "cv.waitKey(0)"
   ]
  },
  {
   "cell_type": "code",
   "execution_count": 17,
   "id": "840be1b8",
   "metadata": {},
   "outputs": [
    {
     "name": "stdout",
     "output_type": "stream",
     "text": [
      "[[[0 0 0]\n",
      "  [0 0 0]\n",
      "  [0 0 0]\n",
      "  ...\n",
      "  [0 0 0]\n",
      "  [0 0 0]\n",
      "  [0 0 0]]\n",
      "\n",
      " [[0 0 0]\n",
      "  [0 0 0]\n",
      "  [0 0 0]\n",
      "  ...\n",
      "  [0 0 0]\n",
      "  [0 0 0]\n",
      "  [0 0 0]]\n",
      "\n",
      " [[0 0 0]\n",
      "  [0 0 0]\n",
      "  [0 0 0]\n",
      "  ...\n",
      "  [0 0 0]\n",
      "  [0 0 0]\n",
      "  [0 0 0]]\n",
      "\n",
      " ...\n",
      "\n",
      " [[0 0 0]\n",
      "  [0 0 0]\n",
      "  [0 0 0]\n",
      "  ...\n",
      "  [0 0 0]\n",
      "  [0 0 0]\n",
      "  [0 0 0]]\n",
      "\n",
      " [[0 0 0]\n",
      "  [0 0 0]\n",
      "  [0 0 0]\n",
      "  ...\n",
      "  [0 0 0]\n",
      "  [0 0 0]\n",
      "  [0 0 0]]\n",
      "\n",
      " [[0 0 0]\n",
      "  [0 0 0]\n",
      "  [0 0 0]\n",
      "  ...\n",
      "  [0 0 0]\n",
      "  [0 0 0]\n",
      "  [0 0 0]]]\n"
     ]
    }
   ],
   "source": [
    "print(blank2)"
   ]
  },
  {
   "cell_type": "code",
   "execution_count": 19,
   "id": "3e8d7875",
   "metadata": {},
   "outputs": [
    {
     "data": {
      "text/plain": [
       "-1"
      ]
     },
     "execution_count": 19,
     "metadata": {},
     "output_type": "execute_result"
    }
   ],
   "source": [
    "blank3 = np.full((500,500),255, dtype='uint8')#255-white\n",
    "cv.imshow('Blank3', blank3)\n",
    "cv.waitKey(0)"
   ]
  },
  {
   "cell_type": "code",
   "execution_count": 21,
   "id": "09949b3b",
   "metadata": {},
   "outputs": [
    {
     "data": {
      "text/plain": [
       "-1"
      ]
     },
     "execution_count": 21,
     "metadata": {},
     "output_type": "execute_result"
    }
   ],
   "source": [
    "blank4 = np.zeros((500,500,3), dtype='uint8')#255-white\n",
    "blank4[:]= 100,250,100\n",
    "cv.imshow('Blank4', blank4)\n",
    "cv.waitKey(0)"
   ]
  },
  {
   "cell_type": "code",
   "execution_count": 22,
   "id": "347415d4",
   "metadata": {},
   "outputs": [
    {
     "data": {
      "text/plain": [
       "-1"
      ]
     },
     "execution_count": 22,
     "metadata": {},
     "output_type": "execute_result"
    }
   ],
   "source": [
    "blank = np.zeros((500,500,3), dtype='uint8')\n",
    "#blank[y1:y2, x1:x2]\n",
    "blank[120:300, 130:400] = 120, 255, 160  #B=120, G= 255, R=160\n",
    "cv.imshow('Color', blank)\n",
    "cv.waitKey(0)"
   ]
  },
  {
   "cell_type": "code",
   "execution_count": 23,
   "id": "e3d7983f",
   "metadata": {},
   "outputs": [
    {
     "data": {
      "text/plain": [
       "-1"
      ]
     },
     "execution_count": 23,
     "metadata": {},
     "output_type": "execute_result"
    }
   ],
   "source": [
    "# Draw a line\n",
    "# cv2.line(image, start_point(y1,x1), end_point(y2,x2), color, thickness)\n",
    "blank = np.zeros((500,500,3), dtype='uint8')\n",
    "\n",
    "cv.line(blank, (0,0), (300,250), (0,255,0), thickness=3)\n",
    "cv.imshow('Line', blank)\n",
    "cv.waitKey(0)"
   ]
  },
  {
   "cell_type": "code",
   "execution_count": 25,
   "id": "3c194687",
   "metadata": {},
   "outputs": [
    {
     "data": {
      "text/plain": [
       "-1"
      ]
     },
     "execution_count": 25,
     "metadata": {},
     "output_type": "execute_result"
    }
   ],
   "source": [
    "cv.line(img, (0,0), (300,250), (0,255,0), thickness=3)\n",
    "cv.imshow('Line', img)\n",
    "cv.waitKey(0)"
   ]
  },
  {
   "cell_type": "code",
   "execution_count": 26,
   "id": "ddd781ab",
   "metadata": {},
   "outputs": [
    {
     "data": {
      "text/plain": [
       "-1"
      ]
     },
     "execution_count": 26,
     "metadata": {},
     "output_type": "execute_result"
    }
   ],
   "source": [
    "# Draw a line\n",
    "# cv2.line(image, start_point(y1,x1), end_point(y2,x2), color, thickness)\n",
    "blank = np.zeros((500,500,3), dtype='uint8')\n",
    "\n",
    "cv.line(blank, (0,0), (blank.shape[1],blank.shape[0]), (255,0,0), \n",
    "        thickness=3)\n",
    "\n",
    "cv.imshow('Line', blank)\n",
    "cv.waitKey(0)"
   ]
  },
  {
   "cell_type": "code",
   "execution_count": 27,
   "id": "b25c640f",
   "metadata": {},
   "outputs": [
    {
     "data": {
      "text/plain": [
       "-1"
      ]
     },
     "execution_count": 27,
     "metadata": {},
     "output_type": "execute_result"
    }
   ],
   "source": [
    "# Draw a line\n",
    "# cv2.line(image, start_point(y1,x1), end_point(y2,x2), color, thickness)\n",
    "blank = np.zeros((500,500,3), dtype='uint8')\n",
    "\n",
    "cv.line(blank, (100,250), (300,400), (255,255,255), thickness=3)\n",
    "\n",
    "cv.line(blank, (10,25), (150,240), (255,0,100),  thickness=3)\n",
    "\n",
    "cv.imshow('Line', blank)\n",
    "cv.waitKey(0)"
   ]
  },
  {
   "cell_type": "code",
   "execution_count": 31,
   "id": "bb53043e",
   "metadata": {},
   "outputs": [
    {
     "data": {
      "text/plain": [
       "-1"
      ]
     },
     "execution_count": 31,
     "metadata": {},
     "output_type": "execute_result"
    }
   ],
   "source": [
    "blank_white = np.full((500,500,3),255, dtype='uint8')#255-white\n",
    "cv.line(blank_white, (100,250), (300,400), (0,0,255), thickness=3)\n",
    "cv.imshow('blank_white', blank_white)\n",
    "cv.waitKey(0)\n",
    "\n",
    "#May not render properly on white background"
   ]
  },
  {
   "cell_type": "code",
   "execution_count": 33,
   "id": "bf65f088",
   "metadata": {},
   "outputs": [
    {
     "data": {
      "text/plain": [
       "-1"
      ]
     },
     "execution_count": 33,
     "metadata": {},
     "output_type": "execute_result"
    }
   ],
   "source": [
    "blank = np.zeros((500,500,3), dtype='uint8')\n",
    "\n",
    "cv.arrowedLine(blank, (0,0), (300,250), (0,255,0), thickness=3)\n",
    "cv.imshow('Line', blank)\n",
    "cv.waitKey(0)"
   ]
  },
  {
   "cell_type": "code",
   "execution_count": 34,
   "id": "725df5fd",
   "metadata": {},
   "outputs": [
    {
     "data": {
      "text/plain": [
       "-1"
      ]
     },
     "execution_count": 34,
     "metadata": {},
     "output_type": "execute_result"
    }
   ],
   "source": [
    "blank = np.zeros((500,500,3), dtype='uint8')\n",
    "\n",
    "cv.arrowedLine(blank, (300,250), (10,10), (0,255,0), thickness=3)\n",
    "cv.imshow('Line', blank)\n",
    "cv.waitKey(0)"
   ]
  },
  {
   "cell_type": "code",
   "execution_count": 35,
   "id": "b1630d36",
   "metadata": {},
   "outputs": [
    {
     "data": {
      "text/plain": [
       "-1"
      ]
     },
     "execution_count": 35,
     "metadata": {},
     "output_type": "execute_result"
    }
   ],
   "source": [
    "#Draw A Rectangle\n",
    "blank = np.zeros((500,500,3), dtype='uint8')\n",
    "\n",
    "cv.rectangle(blank, (50,50), (blank.shape[1]//2, blank.shape[0]//2), \n",
    "             (0,255,0), thickness=2)\n",
    "\n",
    "cv.imshow('Rectangle', blank)\n",
    "cv.waitKey(0)"
   ]
  },
  {
   "cell_type": "code",
   "execution_count": 36,
   "id": "67e60431",
   "metadata": {},
   "outputs": [
    {
     "data": {
      "text/plain": [
       "-1"
      ]
     },
     "execution_count": 36,
     "metadata": {},
     "output_type": "execute_result"
    }
   ],
   "source": [
    "blank = np.zeros((500,500,3), dtype='uint8')\n",
    "\n",
    "cv.rectangle(blank, (50,50), (blank.shape[1]//2, blank.shape[0]//2), \n",
    "             (0,255,0), thickness=-1)\n",
    "\n",
    "cv.imshow('Rectangle', blank)\n",
    "cv.waitKey(0)"
   ]
  },
  {
   "cell_type": "code",
   "execution_count": 37,
   "id": "0e7db0e5",
   "metadata": {},
   "outputs": [
    {
     "data": {
      "text/plain": [
       "-1"
      ]
     },
     "execution_count": 37,
     "metadata": {},
     "output_type": "execute_result"
    }
   ],
   "source": [
    "#When blank is not re-initialized\n",
    "\n",
    "cv.line(blank, (10,25), (150,240), (255,0,100),  thickness=3)\n",
    "\n",
    "cv.imshow('Line', blank)\n",
    "cv.waitKey(0)\n"
   ]
  },
  {
   "cell_type": "code",
   "execution_count": 39,
   "id": "cf27aef5",
   "metadata": {},
   "outputs": [
    {
     "data": {
      "text/plain": [
       "-1"
      ]
     },
     "execution_count": 39,
     "metadata": {},
     "output_type": "execute_result"
    }
   ],
   "source": [
    "img= cv.imread(\"cat.jpg\")\n",
    "cv.rectangle(img, (240,60),(425,250), (255,0,0), thickness=3)\n",
    "\n",
    "cv.imshow('Rectangle', img)\n",
    "cv.waitKey(0)"
   ]
  },
  {
   "cell_type": "code",
   "execution_count": 40,
   "id": "23dabfd7",
   "metadata": {},
   "outputs": [
    {
     "data": {
      "text/plain": [
       "-1"
      ]
     },
     "execution_count": 40,
     "metadata": {},
     "output_type": "execute_result"
    }
   ],
   "source": [
    "# Draw A circle\n",
    "# cv2.circle(image, center_coordinates, radius, color, thickness)\n",
    "blank = np.zeros((500,500,3), dtype='uint8')\n",
    "cv.circle(blank, (250, 250),150, (0,0,255),thickness=2)\n",
    "\n",
    "cv.imshow('Circle', blank)\n",
    "cv.waitKey(0)"
   ]
  },
  {
   "cell_type": "code",
   "execution_count": 41,
   "id": "82ae0cdd",
   "metadata": {},
   "outputs": [
    {
     "data": {
      "text/plain": [
       "-1"
      ]
     },
     "execution_count": 41,
     "metadata": {},
     "output_type": "execute_result"
    }
   ],
   "source": [
    "blank = np.zeros((500,500,3), dtype='uint8')\n",
    "cv.circle(blank, (250, 250),100, (0,0,255),thickness=-1)\n",
    "\n",
    "cv.imshow('Circle', blank)\n",
    "cv.waitKey(0)"
   ]
  },
  {
   "cell_type": "code",
   "execution_count": 42,
   "id": "66b61168",
   "metadata": {},
   "outputs": [
    {
     "data": {
      "text/plain": [
       "-1"
      ]
     },
     "execution_count": 42,
     "metadata": {},
     "output_type": "execute_result"
    }
   ],
   "source": [
    "\n",
    "# Draw a line\n",
    "# cv2.line(image, start_point(y1,x1), end_point(y2,x2), color, thickness)\n",
    "blank = np.zeros((500,500,3), dtype='uint8')\n",
    "\n",
    "cv.line(blank, (100,250), (300,400), (255,255,255), thickness=3)\n",
    "\n",
    "cv.line(blank, (10,25), (150,240), (255,0,100),  thickness=3)\n",
    "\n",
    "cv.imshow('Line', blank)\n",
    "cv.waitKey(0)"
   ]
  },
  {
   "cell_type": "code",
   "execution_count": null,
   "id": "76ae3dfe",
   "metadata": {},
   "outputs": [],
   "source": []
  },
  {
   "cell_type": "code",
   "execution_count": 44,
   "id": "f20fd7a9",
   "metadata": {},
   "outputs": [
    {
     "data": {
      "text/plain": [
       "-1"
      ]
     },
     "execution_count": 44,
     "metadata": {},
     "output_type": "execute_result"
    }
   ],
   "source": [
    "# 5. Write text\n",
    "#cv2.putText(image, text, org, font, fontScale, color[, thickness\n",
    "#[, lineType[, bottomLeftOrigin]]])\n",
    "\n",
    "blank = np.zeros((1100,1100,3), dtype='uint8')\n",
    "\n",
    "cv.putText(blank, 'Hello, This is TRIPLEX', (0,225), \n",
    "           cv.FONT_HERSHEY_TRIPLEX,2.0, (0,255,0), 2)\n",
    "\n",
    "cv.putText(blank, 'Hello, This is SIMPLEX', (0,100), \n",
    "           cv.FONT_HERSHEY_SIMPLEX,0.5, (0,255,0), 2)\n",
    "\n",
    "cv.putText(blank, 'Hello, This is PLAIN', (0,355),  \n",
    "           cv.FONT_HERSHEY_PLAIN,2.7, (0,255,0), 2)\n",
    "\n",
    "\n",
    "cv.imshow('Text', blank)\n",
    "cv.waitKey(0)\n",
    "\n",
    "\n",
    "#FONT_HERSHEY_TRIPLEX\n",
    "#FONT_HERSHEY_SIMPLEX\n",
    "#FONT_HERSHEY_PLAIN\n"
   ]
  },
  {
   "cell_type": "markdown",
   "id": "5b5bc5c9",
   "metadata": {},
   "source": [
    "## Joining Images"
   ]
  },
  {
   "cell_type": "code",
   "execution_count": 45,
   "id": "7a6a72bb",
   "metadata": {},
   "outputs": [
    {
     "data": {
      "text/plain": [
       "-1"
      ]
     },
     "execution_count": 45,
     "metadata": {},
     "output_type": "execute_result"
    }
   ],
   "source": [
    "img= cv.imread(\"cat.jpg\")\n",
    "cv.imshow(\"Cat\", img)\n",
    "cv.waitKey(0)"
   ]
  },
  {
   "cell_type": "code",
   "execution_count": 46,
   "id": "1ce8075a",
   "metadata": {},
   "outputs": [
    {
     "data": {
      "text/plain": [
       "-1"
      ]
     },
     "execution_count": 46,
     "metadata": {},
     "output_type": "execute_result"
    }
   ],
   "source": [
    "horizontal = np.hstack((img,img))\n",
    "cv.imshow(\"horizontal\", horizontal)\n",
    "cv.waitKey(0)"
   ]
  },
  {
   "cell_type": "code",
   "execution_count": 49,
   "id": "b2251280",
   "metadata": {},
   "outputs": [
    {
     "data": {
      "text/plain": [
       "-1"
      ]
     },
     "execution_count": 49,
     "metadata": {},
     "output_type": "execute_result"
    }
   ],
   "source": [
    "img2 = cv.imread(\"dog.jpg\")\n",
    "cv.imshow(\"Dog\", img2)\n",
    "cv.waitKey(0)"
   ]
  },
  {
   "cell_type": "code",
   "execution_count": 51,
   "id": "c62fa33f",
   "metadata": {},
   "outputs": [
    {
     "data": {
      "text/plain": [
       "-1"
      ]
     },
     "execution_count": 51,
     "metadata": {},
     "output_type": "execute_result"
    }
   ],
   "source": [
    "#shape of both images should be same\n",
    "horizontal2 = np.hstack((img2,img2))\n",
    "cv.imshow(\"horizontal2\", horizontal2)\n",
    "cv.waitKey(0)"
   ]
  },
  {
   "cell_type": "code",
   "execution_count": 53,
   "id": "8e590185",
   "metadata": {},
   "outputs": [
    {
     "data": {
      "text/plain": [
       "-1"
      ]
     },
     "execution_count": 53,
     "metadata": {},
     "output_type": "execute_result"
    }
   ],
   "source": [
    "#shape of both images should be same\n",
    "vertical = np.vstack((img,img))\n",
    "cv.imshow(\"vertical\",vertical)\n",
    "cv.waitKey(0)"
   ]
  },
  {
   "cell_type": "markdown",
   "id": "eaf4487e",
   "metadata": {},
   "source": [
    "we cannot resize the image\n",
    "one gray and one rgb cannot be joined\n",
    "shape should be similar"
   ]
  },
  {
   "cell_type": "code",
   "execution_count": 54,
   "id": "0c0d2a35",
   "metadata": {},
   "outputs": [
    {
     "data": {
      "text/plain": [
       "-1"
      ]
     },
     "execution_count": 54,
     "metadata": {},
     "output_type": "execute_result"
    }
   ],
   "source": [
    "blank = np.zeros((400,400), dtype='uint8')\n",
    "\n",
    "rectangle = cv.rectangle(blank.copy(), (30,30), (370,370),255, -1)\n",
    "cv.imshow('Rectangle', rectangle)\n",
    "cv.waitKey(0)\n",
    "\n",
    "circle = cv.circle(blank.copy(), (200,200), 200, 255,-1)\n",
    "cv.imshow('Circle', circle)\n",
    "cv.waitKey(0)\n",
    "\n",
    "# bitwise AND --> intersecting regions\n",
    "bit_and = cv.bitwise_and(rectangle, circle)\n",
    "\n",
    "cv.imshow('Bitwise AND', bit_and)\n",
    "cv.waitKey(0)"
   ]
  },
  {
   "cell_type": "code",
   "execution_count": 55,
   "id": "8e6b46be",
   "metadata": {},
   "outputs": [
    {
     "data": {
      "text/plain": [
       "-1"
      ]
     },
     "execution_count": 55,
     "metadata": {},
     "output_type": "execute_result"
    }
   ],
   "source": [
    "# bitwise OR --> non-intersecting and intersecting regions\n",
    "bit_or = cv.bitwise_or(rectangle, circle)\n",
    "cv.imshow('Bitwise OR', bit_or)\n",
    "cv.waitKey(0)"
   ]
  },
  {
   "cell_type": "code",
   "execution_count": 56,
   "id": "64de65f3",
   "metadata": {},
   "outputs": [
    {
     "data": {
      "text/plain": [
       "-1"
      ]
     },
     "execution_count": 56,
     "metadata": {},
     "output_type": "execute_result"
    }
   ],
   "source": [
    "# bitwise XOR --> non-intersecting regions\n",
    "bit_xor = cv.bitwise_xor(rectangle, circle)\n",
    "cv.imshow('Bitwise XOR', bit_xor)\n",
    "cv.waitKey(0)"
   ]
  },
  {
   "cell_type": "code",
   "execution_count": 57,
   "id": "fc9e21e1",
   "metadata": {},
   "outputs": [
    {
     "data": {
      "text/plain": [
       "-1"
      ]
     },
     "execution_count": 57,
     "metadata": {},
     "output_type": "execute_result"
    }
   ],
   "source": [
    "# bitwise NOT\n",
    "bit_not = cv.bitwise_not(circle)\n",
    "cv.imshow('Circle NOT', bit_not)\n",
    "cv.waitKey(0)"
   ]
  },
  {
   "cell_type": "code",
   "execution_count": 5,
   "id": "2366086d",
   "metadata": {},
   "outputs": [
    {
     "data": {
      "text/plain": [
       "-1"
      ]
     },
     "execution_count": 5,
     "metadata": {},
     "output_type": "execute_result"
    }
   ],
   "source": [
    "img= cv.imread(\"dog.jpg\")\n",
    "cv.imshow(\"dog\", img)\n",
    "cv.waitKey(0)"
   ]
  },
  {
   "cell_type": "code",
   "execution_count": 6,
   "id": "53f989d3",
   "metadata": {},
   "outputs": [
    {
     "data": {
      "text/plain": [
       "-1"
      ]
     },
     "execution_count": 6,
     "metadata": {},
     "output_type": "execute_result"
    }
   ],
   "source": [
    "#canvas equivalent to image resolution\n",
    "blank = np.zeros(img.shape[:2],dtype='uint8')\n",
    "cv.imshow('Blank Image',blank)\n",
    "cv.waitKey(0)\n",
    "\n",
    "circle = cv.circle(blank.copy(),(img.shape[1]//2, img.shape[0]//2),100,255,-1)\n",
    "\n",
    "rectangle = cv.rectangle(blank.copy(),(30,30),(370,370),255,-1)\n",
    "\n",
    "weird_shape = cv.bitwise_and(circle,rectangle)\n",
    "\n",
    "cv.imshow('Circle',circle)\n",
    "cv.imshow('Rectangle',rectangle)\n",
    "cv.imshow('Weird Shape',weird_shape)\n",
    "cv.waitKey(0)\n",
    "\n"
   ]
  },
  {
   "cell_type": "code",
   "execution_count": 7,
   "id": "319f6515",
   "metadata": {},
   "outputs": [
    {
     "data": {
      "text/plain": [
       "-1"
      ]
     },
     "execution_count": 7,
     "metadata": {},
     "output_type": "execute_result"
    }
   ],
   "source": [
    "masked=cv.bitwise_and(img,img,mask=weird_shape)\n",
    "cv.imshow('Weired Shaped masked image',masked)\n",
    "cv.waitKey(0)"
   ]
  },
  {
   "cell_type": "code",
   "execution_count": 11,
   "id": "50cd3f6e",
   "metadata": {},
   "outputs": [
    {
     "data": {
      "text/plain": [
       "True"
      ]
     },
     "execution_count": 11,
     "metadata": {},
     "output_type": "execute_result"
    }
   ],
   "source": [
    "img = cv.imread(\"dog.jpg\")\n",
    "\n",
    "## convert to hsv\n",
    "hsv = cv.cvtColor(img, cv.COLOR_BGR2HSV)\n",
    "\n",
    "## mask of green (36,0,0) ~ (70, 255,255)\n",
    "mask1 = cv.inRange(hsv, (36, 0, 0), (70, 255,255))\n",
    "\n",
    "## mask of yellow (15,0,0) ~ (36, 255, 255)\n",
    "mask2 = cv.inRange(hsv, (15,0,0), (36, 255, 255))\n",
    "\n",
    "## final mask and masked\n",
    "mask = cv.bitwise_or(mask1, mask2)\n",
    "target = cv.bitwise_and(img,img, mask=mask)\n",
    "\n",
    "\n",
    "cv.imshow(\"dog\", img)\n",
    "cv.imshow(\"Mask\", target)\n",
    "cv.waitKey(0)\n",
    "\n",
    "cv.imwrite(\"target.png\", target)#save ua image \n",
    "\n"
   ]
  },
  {
   "cell_type": "code",
   "execution_count": 20,
   "id": "56b3f5da",
   "metadata": {},
   "outputs": [
    {
     "data": {
      "text/plain": [
       "True"
      ]
     },
     "execution_count": 20,
     "metadata": {},
     "output_type": "execute_result"
    }
   ],
   "source": [
    "img = cv.imread(\"dog.jpg\")\n",
    "\n",
    "## convert to hsv\n",
    "hsv = cv.cvtColor(img, cv.COLOR_BGR2HSV)\n",
    "\n",
    "## mask of green (36,0,0) ~ (70, 255,255)\n",
    "mask1 = cv.inRange(hsv, (110,50,50), (130,255,255))\n",
    "\n",
    "## mask of yellow (15,0,0) ~ (36, 255, 255)\n",
    "mask2 = cv.inRange(hsv, (0,100,100), (10,255,255))\n",
    "\n",
    "## final mask and masked\n",
    "mask = cv.bitwise_or(mask1, mask2)\n",
    "target = cv.bitwise_and(img,img, mask=mask)\n",
    "\n",
    "\n",
    "cv.imshow(\"dog\", img)\n",
    "cv.imshow(\"Mask\", target)\n",
    "cv.waitKey(0)\n",
    "\n",
    "cv.imwrite(\"target.png\", target)#save ua image "
   ]
  },
  {
   "cell_type": "code",
   "execution_count": 25,
   "id": "fdde6f3f",
   "metadata": {},
   "outputs": [],
   "source": [
    "vid = cv.VideoCapture(0)\n",
    "while True:\n",
    "    ret, frame = vid.read()\n",
    "    cv.imshow(\"Original Frame\",frame)\n",
    "    \n",
    "    hsv = cv.cvtColor(frame,cv.COLOR_BGR2HSV)\n",
    "    cv.imshow(\"HSV Frame\",hsv)\n",
    "    \n",
    "    mask = cv.inRange(hsv,(36, 0, 0),(70, 255,255))\n",
    "    target=cv.bitwise_and(frame,frame,mask=mask)\n",
    "    cv.imshow(\"Mask Frame\",target)\n",
    "    \n",
    "    if cv.waitKey(1) == ord('q'):\n",
    "        break\n",
    "        \n",
    "vid.release()\n",
    "cv.destroyAllWindows()\n"
   ]
  },
  {
   "cell_type": "code",
   "execution_count": 30,
   "id": "3aad7c31",
   "metadata": {},
   "outputs": [],
   "source": [
    "\n",
    "vid = cv.VideoCapture(0)\n",
    "while True:\n",
    "    ret, frame = vid.read()\n",
    "    cv.imshow(\"Original Frame\",frame)\n",
    "    \n",
    "    hsv = cv.cvtColor(frame,cv.COLOR_BGR2HSV)\n",
    "    cv.imshow(\"HSV Frame\",hsv)\n",
    "    mask1 = cv.inRange(hsv,(110,50,50),(130,255,255))\n",
    "    mask2 = cv.inRange(hsv,(0,100,100),(10,255,255))\n",
    "    target=cv.bitwise_and(frame,frame,mask=mask)\n",
    "   \n",
    "    cv.imshow(\"Mask Frame\",target)\n",
    "   \n",
    "    mask = cv.bitwise_or(mask1, mask2)\n",
    "    if cv.waitKey(1) == ord('q'):\n",
    "        break\n",
    "        \n",
    "vid.release()\n",
    "cv.destroyAllWindows()"
   ]
  },
  {
   "cell_type": "code",
   "execution_count": null,
   "id": "479fb2a9",
   "metadata": {},
   "outputs": [],
   "source": [
    "lower_blue = np.array([110,50,50])\n",
    "upper_blue = np.array([130,255,255])\n",
    "\n",
    "lower_red = np.array([0,100,100])\n",
    "upper_red = np.array([10,255,255])\n",
    "## mask of green (36,0,0) ~ (70, 255,255)\n",
    "mask1 = cv.inRange(hsv, (36, 0, 0), (70, 255,255))\n",
    "\n",
    "## mask of yellow (15,0,0) ~ (36, 255, 255)\n",
    "mask2 = cv.inRange(hsv, (15,0,0), (36, 255, 255))"
   ]
  },
  {
   "cell_type": "code",
   "execution_count": null,
   "id": "172cad5e",
   "metadata": {},
   "outputs": [],
   "source": []
  },
  {
   "cell_type": "code",
   "execution_count": null,
   "id": "451a2634",
   "metadata": {},
   "outputs": [],
   "source": []
  },
  {
   "cell_type": "code",
   "execution_count": null,
   "id": "5ff6e7c9",
   "metadata": {},
   "outputs": [],
   "source": []
  },
  {
   "cell_type": "code",
   "execution_count": null,
   "id": "a2798aa7",
   "metadata": {},
   "outputs": [],
   "source": []
  },
  {
   "cell_type": "code",
   "execution_count": null,
   "id": "0a2031d2",
   "metadata": {},
   "outputs": [],
   "source": []
  },
  {
   "cell_type": "code",
   "execution_count": null,
   "id": "a080e044",
   "metadata": {},
   "outputs": [],
   "source": []
  },
  {
   "cell_type": "code",
   "execution_count": null,
   "id": "92d07051",
   "metadata": {},
   "outputs": [],
   "source": []
  },
  {
   "cell_type": "code",
   "execution_count": null,
   "id": "c82cb9a0",
   "metadata": {},
   "outputs": [],
   "source": []
  },
  {
   "cell_type": "code",
   "execution_count": null,
   "id": "1b367757",
   "metadata": {},
   "outputs": [],
   "source": []
  },
  {
   "cell_type": "code",
   "execution_count": null,
   "id": "5ebb3438",
   "metadata": {},
   "outputs": [],
   "source": []
  },
  {
   "cell_type": "code",
   "execution_count": null,
   "id": "3cb6dd30",
   "metadata": {},
   "outputs": [],
   "source": []
  },
  {
   "cell_type": "code",
   "execution_count": null,
   "id": "ca18917c",
   "metadata": {},
   "outputs": [],
   "source": []
  },
  {
   "cell_type": "code",
   "execution_count": null,
   "id": "54b91b17",
   "metadata": {},
   "outputs": [],
   "source": []
  },
  {
   "cell_type": "code",
   "execution_count": null,
   "id": "1c5f5ddb",
   "metadata": {},
   "outputs": [],
   "source": []
  }
 ],
 "metadata": {
  "kernelspec": {
   "display_name": "Python 3 (ipykernel)",
   "language": "python",
   "name": "python3"
  },
  "language_info": {
   "codemirror_mode": {
    "name": "ipython",
    "version": 3
   },
   "file_extension": ".py",
   "mimetype": "text/x-python",
   "name": "python",
   "nbconvert_exporter": "python",
   "pygments_lexer": "ipython3",
   "version": "3.9.12"
  }
 },
 "nbformat": 4,
 "nbformat_minor": 5
}
